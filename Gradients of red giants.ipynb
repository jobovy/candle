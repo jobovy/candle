{
 "cells": [
  {
   "cell_type": "markdown",
   "metadata": {},
   "source": [
    "# Automated differentiation - gradients of red giant stars \n",
    "\n",
    "By using Autograd and refactoring most of my Keras code into vectorized numpy, I am able to have a high degree of leverage in observing what the neural network learns. Here, I investigate results, gradients and mathematical justification for what the neural networks learns and how it fits into the astrophysics picture.\n",
    "\n",
    "The model can be described with the following functions\n",
    "\n",
    "$$\n",
    "\\begin{equation}\n",
    "\\begin{aligned}\n",
    "\\hat{y} &= \\sigma(r(XW_1 + b_1)W_2 + b_2)\\\\\n",
    "\\end{aligned}\n",
    "\\end{equation}\n",
    "$$\n",
    "\n",
    "Where $r$ is the ReLU function, $\\max(0, x)$, and $\\sigma$ is the sigmoid function, $\\frac{1}{1+e^{-z}}$. We have the following architecture:\n",
    "\n",
    "$$\n",
    "\\begin{equation}\n",
    "\\begin{aligned}\n",
    "W_1 &\\in (7514, 32)\\\\\n",
    "b_1 &\\in (32,)\\\\\n",
    "W_2 &\\in (32, 1)\\\\\n",
    "b_2 &\\in (1,)\\\\\n",
    "\\text{Trainable params} &= 240,482\n",
    "\\end{aligned}\n",
    "\\end{equation}\n",
    "$$\n",
    "\n",
    "With this explicit equation, we can derive the gradients easily - in this case, we use `Autograd` to perform automatic differentation on `numpy` operations in Python to obtain rich mathematical results. "
   ]
  },
  {
   "cell_type": "markdown",
   "metadata": {},
   "source": [
    "##  Gradients of red giants\n",
    "\n",
    "Here, we take the gradient of the prediction with respect to the input vector of red giants and average the gradient to get an average picture of what features in the stellar spectra influence the greatest change in the prediction, explicitly we are plotting\n",
    "\n",
    "$$\\text{Average gradient of red giants} = \\frac{1}{N}\\sum_{i=1}^N\\nabla_{\\hat{y}}(x^{(i)})$$\n",
    "\n",
    "![title](plots/gradient/fig1.png)\n",
    "\n",
    "From this plot we can see immediately that the areas of highest magnitude are $(5444, 5585), (6850, 7080)$. Here we observe them in wavelength space and look at the corresponding ions. Below is the gradient with the x-axis in the open interval $(6850, 7080)$ converted to wavelength space $(16740, 16840)$\n",
    "\n",
    "![title](plots/gradient/fig2.png)\n",
    "\n",
    "This interval of wavelength mostly corresponds to Fe, Iron, specifically Fe I. However, the noticable dip downwards at around $16820.8$ corresponds to the ion Th I - Thorium. Since the output of $\\hat{y}$ is the probability that a star is a red clump, this indicates a increase in Thorium leads to the lower probability that a star is a red clump. "
   ]
  },
  {
   "cell_type": "markdown",
   "metadata": {
    "collapsed": true
   },
   "source": [
    "\n",
    "\n"
   ]
  }
 ],
 "metadata": {
  "kernelspec": {
   "display_name": "Python 3",
   "language": "python",
   "name": "python3"
  },
  "language_info": {
   "codemirror_mode": {
    "name": "ipython",
    "version": 3
   },
   "file_extension": ".py",
   "mimetype": "text/x-python",
   "name": "python",
   "nbconvert_exporter": "python",
   "pygments_lexer": "ipython3",
   "version": "3.5.0"
  }
 },
 "nbformat": 4,
 "nbformat_minor": 2
}
