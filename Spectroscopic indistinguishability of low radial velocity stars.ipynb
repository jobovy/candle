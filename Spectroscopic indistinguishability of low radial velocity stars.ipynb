{
 "cells": [
  {
   "cell_type": "markdown",
   "metadata": {},
   "source": [
    "# Spectroscopic indistinguishability of low frequency seperated red giant branch stars\n",
    "\n"
   ]
  },
  {
   "cell_type": "markdown",
   "metadata": {},
   "source": [
    "Current models are able to cleanly separate red giant branch stars from red clump stars with a great accuracy rate. Unfortunately, much of this accuracy is overstated as the core problem of overlap between red clump stars and red giant branch stars still has a sizable amount of contamination. This area of overlap is around $log(g) \\approx 2.5$ as RGB stars mature and climb the red giant branch. Here, metal poor RGB stars and higher mass stars that burn hotter and edge closer to the red clump contaminate attempts of characterizing red clump stars in the $log(g)-Teff$ space. Notable stars that contaminate red clumps are RGB stars of low frequency separation and hot RGB stars. Essentially, all models (linear  and non-linear) to learn a better separation have failed, for a few reasons:\n",
    "\n",
    "1. The period spacing for RGB stars of low frequency separated RGB stars is difficult\n",
    "> However, we should keep in mind that at low ∆ν (i.e. a high luminosity on the RGB), when gravity-dominated mixed\n",
    "modes have high inertias, detecting ∆Π1 becomes challenging.\n",
    "Source: https://arxiv.org/pdf/1512.03656.pdf\n",
    "\n",
    "2. Low frequency separated RGB stars (high luminosity) tend to burn hotter since luminosity is correlated with temperature\n",
    "\n",
    "3. In the Vrad sample, there are few RGB stars in this \"fuzzy\" zone, making it difficult to train a model due to the inherent problem of lack of data\n",
    "\n",
    "We show that these problems also show up when we attempt to use stellar spectra to discriminate red clump and red giant branch stars. While we are able to achieve better than current model accuracy, this metric is disputable for a few reasons, the main being that since there are so few stars in said \"fuzzy\" region, the error is very discrete so most of it might be attributable to noise. What we hope to achieve is a model that we intuitively think is very generalizable and shows good performance on this \"fuzzy\" region with the fewest number of training examples. If it generalizes well on our narrow strip of data despite having seen very few examples, then this is good intuitive evidence that it will generalize outside. We show that random forests have this desirable property while neural networks, having a very good training accuracy, show poor generalization. \n",
    "\n"
   ]
  },
  {
   "cell_type": "markdown",
   "metadata": {},
   "source": [
    "## What a red clump and a red giant branch star look like\n",
    "The average red giant branch spectra and red clump spectra differ in spectra-space by a noticeable average l2 norm. When they are dimensionally reduced using PCA, the loss of information is almost negligible where the average l2 norm difference is off by $ < 0.00015\\%$\n",
    "\n",
    "$$\\begin{equation}\n",
    "\\begin{aligned}\\text{Average RGB - Average RC} &= 0.29601430892944336\\\\\\text{Average reconstructed RGB - Average reconstructed RC} &= 0.29601430892944336\\end{aligned}\\end{equation}$$\n",
    "![title](plots/spectra/fig1.png)"
   ]
  },
  {
   "cell_type": "markdown",
   "metadata": {},
   "source": [
    "## Low frequency separated red giant branch stars in regression space "
   ]
  },
  {
   "cell_type": "markdown",
   "metadata": {},
   "source": [
    "Here, one of the best models I was able to create (a very small shallow 2 hidden layer neural network on 100 principal components from spectra) performs a regression task of predicting the large frequency seperation and period spacing of a star from stellar spectra. For the most part, it performs quite well in large frequency seperation axis with a mean error of $ < 0.3$. However, in period spacing, we have a mean absolute error of $\\approx 23$, and with hand tuning of models, we can get this down to about $20$, which is a very small improvement. Plotted below are stars colored by ground truth from Kepler asteroseismic data and their respective locations in $\\Delta{}v-PS$ space, the left being what the regression model predicted and the right being the ground truth. As we see, low frequency seperated red giant branch stars significantly contaminate the red clump samples at $4.5 \\leq \\Delta{}v \\leq 7$\n",
    "\n",
    "![title](plots/spectra/fig3.png)"
   ]
  },
  {
   "cell_type": "markdown",
   "metadata": {},
   "source": [
    "## Classification errors in frequency seperation - period spacing space\n",
    "Here, we show a model, (shallow neural network on 100 principal components from stellar spectra) performance on a classification task. We plot the classification errors in $\\Delta{}v-PS$ space, the left is the regression model's predicted values and the right is the ground truth. We clearly see that there is a clear connection between the RGB and RC stars that are misclassified and their respective regression errors, showing that there is some connection between the regression error and classification error. We also observe that all the classification errors are in the area of low frequency separated RGB stars, the same area that is known to be difficult to observe period spacing\n",
    "\n",
    "![title](plots/spectra/fig4.png)\n",
    "\n",
    "## Classification errors in Teff-log(g) space\n",
    "The same misclassied stars from above, but now in $T_{eff}-log(gg)$ space. \n",
    "![title](plots/spectra/fig5.png)"
   ]
  },
  {
   "cell_type": "markdown",
   "metadata": {
    "collapsed": true
   },
   "source": [
    "## What do misclassified stars look like?\n",
    "\n",
    "## Misclassified red giant branch stars\n",
    "<table>\n",
    "<thead><tr><td>KIC</td><td>M</td><td>T_eff</td><td>log(g)</td><td>M_H</td><td>C</td><td>N</td><td>Fe</td><td>Dnu</td><td>PS</td></tr></thead>\n",
    "<tr><td>2449558</td><td>1.92</td><td>4895.56</td><td>2.61</td><td>0.02</td><td>-0.09</td><td>0.40</td><td>0.01</td><td>7.61</td><td>74.60</td><td>182.28</td></tr>\n",
    "<tr><td>3220095</td><td>0.75</td><td>4875.87</td><td>2.39</td><td>-0.31</td><td>-0.24</td><td>-0.21</td><td>-0.33</td><td>3.93</td><td>49.70</td><<td>294.69</td></tr>\n",
    "<tr><td>3449907</td><td>1.46</td><td>4714.39</td><td>2.62</td><td>0.12</td><td>0.06</td><td>0.52</td><td>0.13</td><td>5.35</td><td>63.90</td><<td>243.14</td></tr>\n",
    "<tr><td>8561202</td><td>1.77</td><td>4974.93</td><td>2.50</td><td>-0.35</td><td>-0.50</td><td>0.04</td><td>-0.35</td><td>5.82</td><td>69.60</td><<td>248.16</td></tr>\n",
    "<tr><td>8708536</td><td>2.82</td><td>4993.77</td><td>2.72</td><td>0.20</td><td>-0.01</td><td>0.68</td><td>0.20</td><td>7.92</td><td>73.90</td><<td>244.79</td></tr>\n",
    "<tr><td>8891957</td><td>1.74</td><td>4847.68</td><td>2.51</td><td>-0.10</td><td>-0.11</td><td>0.13</td><td>-0.09</td><td>6.14</td><td>66.70</td><<td>261.82</td></tr>\n",
    "<tr><td>10196240</td><td>1.45</td><td>4719.28</td><td>2.43</td><td>0.14</td><td>0.06</td><td>0.46</td><td>0.15</td><td>4.04</td><td>65.70</td><<td>291.44</td></tr>\n",
    "<tr><td>11097749</td><td>1.56</td><td>4900.09</td><td>2.59</td><td>-0.06</td><td>-0.12</td><td>0.20</td><td>-0.06</td><td>7.21</td><td>69.50</td><<td>195.54</td></tr>\n",
    "<tr><td>11605129</td><td>1.75</td><td>4827.26</td><td>2.50</td><td>0.05</td><td>-0.06</td><td>0.43</td><td>0.05</td><td>4.62</td><td>66.70</td><<td>292.26</td></tr>\n",
    "<tr><td>11620695</td><td>1.45</td><td>4773.98</td><td>2.53</td><td>-0.19</td><td>-0.30</td><td>0.09</td><td>-0.20</td><td>4.63</td><td>58.60</td><<td>186.93</td></tr>\n",
    "</table>\n",
    "\n",
    "\n",
    "## Misclassified red clump stars\n",
    "<table>\n",
    "<thead><tr><td>KIC</td><td>M</td><td>T_eff</td><td>log(g)</td><td>M_H</td><td>C</td><td>N</td><td>Fe</td><td>Dnu</td><td>PS</td></tr></thead>\n",
    "<tr><td>5218333</td><td>1.52</td><td>4664.12</td><td>2.61</td><td>0.09</td><td>0.02</td><td>0.48</td><td>0.09</td><td>5.51</td><td>285.20</td></tr>\n",
    "<tr><td>5613570</td><td>1.5</td><td>4596.66</td><td>2.64</td><td>0.31</td><td>0.25</td><td>0.69</td><td>0.31</td><td>5.51</td><td>345.70</td></tr>\n",
    "<tr><td>6188215</td><td>2.45</td><td>4983.11</td><td>3.01</td><td>0.07</td><td>-0.23</td><td>0.54</td><td>0.08</td><td>8.73</td><td>164.20</td></tr>\n",
    "<tr><td>6528720</td><td>1.51</td><td>4807.08</td><td>2.71</td><td>0.02</td><td>-0.21</td><td>0.43</td><td>0.03</td><td>4.70</td><td>262.20</td></tr>\n",
    "<tr><td>6967600</td><td>1.58</td><td>4744.95</td><td>2.76</td><td>0.16</td><td>0.07</td><td>0.57</td><td>0.14</td><td>4.31</td><td>263.70</td></tr>\n",
    "<tr><td>10136291</td><td>1.16</td><td>4555.11</td><td>2.42</td><td>-0.18</td><td>-0.13</td><td>-0.00</td><td>-0.18</td><td>4.12</td><td>290.50</td></tr>\n",
    "</table>\n",
    "Red giant branch:\n",
    "2449558\n",
    "3220095\n",
    "3449907\n",
    "8561202\n",
    "8708536\n",
    "8891957\n",
    "10196240\n",
    "11097749\n",
    "11605129\n",
    "11620695\n",
    "\n",
    "Red clump:\n",
    "5218333\n",
    "5613570\n",
    "6188215\n",
    "6528720\n",
    "6967600\n",
    "10136291"
   ]
  },
  {
   "cell_type": "code",
   "execution_count": null,
   "metadata": {
    "collapsed": true
   },
   "outputs": [],
   "source": []
  }
 ],
 "metadata": {
  "kernelspec": {
   "display_name": "Python 3",
   "language": "python",
   "name": "python3"
  },
  "language_info": {
   "codemirror_mode": {
    "name": "ipython",
    "version": 3
   },
   "file_extension": ".py",
   "mimetype": "text/x-python",
   "name": "python",
   "nbconvert_exporter": "python",
   "pygments_lexer": "ipython3",
   "version": "3.5.0"
  }
 },
 "nbformat": 4,
 "nbformat_minor": 2
}
